{
 "cells": [
  {
   "cell_type": "code",
   "execution_count": 1,
   "id": "f02bc1fb-9672-4264-9ad9-cae9894c25bd",
   "metadata": {},
   "outputs": [],
   "source": [
    "import os\n",
    "from environs import Env\n",
    "\n",
    "env = Env()\n",
    "env.read_env(\".env\") # read .env file, if it exists\n",
    "\n",
    "api_key = os.getenv(\"OPENAI_API_KEY\")"
   ]
  },
  {
   "cell_type": "code",
   "execution_count": 2,
   "id": "e2b95289-b050-46b8-b8ed-502119fc4e60",
   "metadata": {},
   "outputs": [],
   "source": [
    "from langchain.chains import RetrievalQA\n",
    "from langchain.document_loaders import TextLoader\n",
    "from langchain_openai import OpenAIEmbeddings\n",
    "from langchain_openai.llms import OpenAI\n",
    "from langchain.text_splitter import CharacterTextSplitter\n",
    "from langchain.vectorstores import Chroma\n",
    "from langchain.document_loaders import PyPDFium2Loader\n",
    "from langchain.chains import LLMChain\n",
    "from langchain.memory import ConversationBufferMemory\n",
    "from langchain.prompts import PromptTemplate"
   ]
  },
  {
   "cell_type": "code",
   "execution_count": 3,
   "id": "7bafe4b8-c059-42d6-9a26-07b6f8da86f5",
   "metadata": {},
   "outputs": [],
   "source": [
    "loader = PyPDFium2Loader(\"docs/OT-Practice-Act-Sept-2023.pdf\")\n",
    "data = loader.load()"
   ]
  },
  {
   "cell_type": "code",
   "execution_count": 4,
   "id": "99aad026-4a70-4ae3-9354-7a3c3100719d",
   "metadata": {},
   "outputs": [],
   "source": [
    "text_splitter = CharacterTextSplitter(chunk_size=1000, chunk_overlap=0)\n",
    "texts = text_splitter.split_documents(data)\n",
    "embeddings = OpenAIEmbeddings(openai_api_key=api_key)\n",
    "llm = OpenAI(openai_api_key=api_key)\n",
    "docsearch= Chroma.from_documents(texts, embeddings)\n",
    "\n",
    "qa = RetrievalQA.from_chain_type(llm=llm, chain_type=\"stuff\", retriever=docsearch.as_retriever())"
   ]
  },
  {
   "cell_type": "code",
   "execution_count": 5,
   "id": "9a94894b-31de-4f12-9959-125bb0dc0c0b",
   "metadata": {},
   "outputs": [
    {
     "data": {
      "text/plain": [
       "{'query': 'What is this document about?',\n",
       " 'result': ' This document is the Texas Occupational Therapy Practice Act, which outlines the requirements and regulations for practicing occupational therapy in the state of Texas. It includes information on licensing, complaints and investigations, and rules and procedures for practicing occupational therapy.'}"
      ]
     },
     "execution_count": 5,
     "metadata": {},
     "output_type": "execute_result"
    }
   ],
   "source": [
    "qa.invoke(\"What is this document about?\")"
   ]
  },
  {
   "cell_type": "code",
   "execution_count": 6,
   "id": "2e325aa1-66c8-42d7-bfb0-584795798ea4",
   "metadata": {},
   "outputs": [],
   "source": [
    "template_string = \"\"\"You are OTReviewerGPT, an AI assistant that writes random questions based on the Texas Occupational Therapy Practice Act document and generates multiple answers based on those questions.\"\n",
    "\n",
    "{chat_history}\n",
    "Human: {human_input}\n",
    "Chatbot: \"\"\""
   ]
  },
  {
   "cell_type": "code",
   "execution_count": 7,
   "id": "cd18d5b7-e55d-44b0-8fc9-eb66d1043cbd",
   "metadata": {},
   "outputs": [],
   "source": [
    "prompt = PromptTemplate(\n",
    "    input_variables=[\"chat_history\", \"human_input\"], template=template_string\n",
    ")\n",
    "\n",
    "memory = ConversationBufferMemory(memory_key=\"chat_history\")"
   ]
  },
  {
   "cell_type": "code",
   "execution_count": 8,
   "id": "5166b354-c666-4506-a9f6-14f38fc02308",
   "metadata": {},
   "outputs": [],
   "source": [
    "llm = OpenAI(openai_api_key=api_key)\n",
    "chain = LLMChain(\n",
    "    llm=llm,\n",
    "    prompt=prompt,\n",
    "    verbose=False,\n",
    "    memory=memory\n",
    ")"
   ]
  },
  {
   "cell_type": "code",
   "execution_count": 9,
   "id": "7758c0f0-fbc3-4b30-aba8-75673aab6ae8",
   "metadata": {},
   "outputs": [],
   "source": [
    "response = chain.predict(human_input=\"Write 5 random questions based on the document.\")"
   ]
  },
  {
   "cell_type": "code",
   "execution_count": 10,
   "id": "da994035-9871-443e-84b9-4e427f11d4b8",
   "metadata": {},
   "outputs": [
    {
     "data": {
      "text/plain": [
       "['1. What is the purpose of the Texas Occupational Therapy Practice Act?',\n",
       " '2. What are the requirements for obtaining an occupational therapy license in Texas?',\n",
       " '3. What are the responsibilities of an occupational therapist in Texas?',\n",
       " '4. How does the Texas Occupational Therapy Practice Act define occupational therapy?',\n",
       " '5. What is the process for reporting a violation of the Texas Occupational Therapy Practice Act?']"
      ]
     },
     "execution_count": 10,
     "metadata": {},
     "output_type": "execute_result"
    }
   ],
   "source": [
    "responses = response.split(\"\\n\")\n",
    "responses"
   ]
  },
  {
   "cell_type": "code",
   "execution_count": 11,
   "id": "def151c4-448a-45fd-bdf8-a63ada74e19d",
   "metadata": {},
   "outputs": [
    {
     "name": "stdout",
     "output_type": "stream",
     "text": [
      "UNMARKED REVIEW QUESTIONS\n",
      "====================================\n",
      "\n",
      "\n",
      "Question: 1. What is the purpose of the Texas Occupational Therapy Practice Act?\n",
      "Choices:\n",
      "1. The purpose of the Texas Occupational Therapy Practice Act is to promote and protect the health, welfare, and safety of the public by regulating the practice of occupational therapy in the state.\n",
      "2. The purpose of the Texas Occupational Therapy Practice Act is to ensure that occupational therapists are properly educated and trained to provide quality healthcare services to patients.\n",
      "3. The purpose of the Texas Occupational Therapy Practice Act is to limit the number of occupational therapists practicing in the state in order to maintain a competitive job market.\n",
      "4. The purpose of the Texas Occupational Therapy Practice Act is to provide tax breaks for occupational therapists working in underserved areas of the state.\n",
      "\n",
      "\n",
      "\n",
      "Question: 2. What are the requirements for obtaining an occupational therapy license in Texas?\n",
      "Choices:\n",
      "1. To obtain an occupational therapy license in Texas, an individual must have a bachelor's degree in occupational therapy and pass the National Board for Certification in Occupational Therapy (NBCOT) exam.\n",
      "2. The only requirement for obtaining an occupational therapy license in Texas is to have a valid license in another state.\n",
      "3. In order to obtain an occupational therapy license in Texas, an individual must have at least 2 years of experience working as an occupational therapist.\n",
      "4. The requirements for obtaining an occupational therapy license in Texas are determined by the Texas Occupational Therapy Practice Act and may be subject to change.\n",
      "\n",
      "\n",
      "\n",
      "Question: 3. What are the responsibilities of an occupational therapist in Texas?\n",
      "Choices:\n",
      "1. The responsibilities of an occupational therapist in Texas include evaluating, planning, and implementing treatment plans for patients, as well as maintaining accurate records and adhering to ethical and legal standards.\n",
      "2. The main responsibility of an occupational therapist in Texas is to assist patients in finding employment opportunities.\n",
      "3. An occupational therapist in Texas is responsible for providing mental health counseling services to patients.\n",
      "4. The responsibilities of an occupational therapist in Texas are determined by their employer and may vary from job to job.\n",
      "\n",
      "\n",
      "\n",
      "Question: 4. How does the Texas Occupational Therapy Practice Act define occupational therapy?\n",
      "Choices:\n",
      "1. According to the Texas Occupational Therapy Practice Act, occupational therapy is defined as a healthcare profession that helps individuals of all ages participate in meaningful activities and occupations to improve their overall well-being.\n",
      "2. The Texas Occupational Therapy Practice Act defines occupational therapy as a form of physical therapy for individuals with disabilities.\n",
      "3. Occupational therapy, as defined by the Texas Occupational Therapy Practice Act, is limited to the use of assistive devices and adaptive equipment.\n",
      "4. The Texas Occupational Therapy Practice Act defines occupational therapy as a form of mental health treatment.\n",
      "\n",
      "\n",
      "\n",
      "Question: 5. What is the process for reporting a violation of the Texas Occupational Therapy Practice Act?\n",
      "Choices:\n",
      "1. Any violation of the Texas Occupational Therapy Practice Act should be reported to the Texas Board of Occupational Therapy Examiners.\n",
      "2. In order to report a violation of the Texas Occupational Therapy Practice Act, you must first file a lawsuit against the individual or facility.\n",
      "3. The process for reporting a violation of the Texas Occupational Therapy Practice Act involves contacting the Occupational Therapy Association of Texas.\n",
      "4. The only way to report a violation of the Texas Occupational Therapy Practice Act is to file a complaint with the Occupational Therapy Board.\n",
      "\n",
      "\n",
      "\n"
     ]
    }
   ],
   "source": [
    "print(\"UNMARKED REVIEW QUESTIONS\")\n",
    "print(\"====================================\\n\\n\")\n",
    "for question in responses:\n",
    "    prompt = \"Based on the question \" + question + \", generate 4 possible answers including one correct answer and three false answers.\"\n",
    "    print(\"Question: \" + question)\n",
    "    print(\"Choices:\")\n",
    "    choices = chain.predict(human_input=prompt)\n",
    "    print(choices)\n",
    "    print(\"\\n\\n\")"
   ]
  },
  {
   "cell_type": "code",
   "execution_count": 12,
   "id": "69f0aa3c-f9d4-41b9-a0cf-93089f3989fe",
   "metadata": {},
   "outputs": [
    {
     "name": "stdout",
     "output_type": "stream",
     "text": [
      "MARKED REVIEW QUESTIONS\n",
      "====================================\n",
      "\n",
      "\n",
      "Question: 1. What is the purpose of the Texas Occupational Therapy Practice Act?\n",
      "Choices:\n",
      "1. CORRECT: The purpose of the Texas Occupational Therapy Practice Act is to promote and protect the health, welfare, and safety of the public by regulating the practice of occupational therapy in the state.\n",
      "2. The purpose of the Texas Occupational Therapy Practice Act is to ensure that occupational therapists are properly educated and trained to provide quality healthcare services to patients.\n",
      "3. The purpose of the Texas Occupational Therapy Practice Act is to limit the number of occupational therapists practicing in the state in order to maintain a competitive job market.\n",
      "4. The purpose of the Texas Occupational Therapy Practice Act is to provide tax breaks for occupational therapists working in underserved areas of the state.\n",
      "\n",
      "\n",
      "\n",
      "Question: 2. What are the requirements for obtaining an occupational therapy license in Texas?\n",
      "Choices:\n",
      "1. CORRECT: To obtain an occupational therapy license in Texas, an individual must have a bachelor's degree in occupational therapy and pass the National Board for Certification in Occupational Therapy (NBCOT) exam.\n",
      "2. The only requirement for obtaining an occupational therapy license in Texas is to have a valid license in another state.\n",
      "3. In order to obtain an occupational therapy license in Texas, an individual must have at least 2 years of experience working as an occupational therapist.\n",
      "4. The requirements for obtaining an occupational therapy license in Texas are determined by the Texas Occupational Therapy Practice Act and may be subject to change.\n",
      "\n",
      "\n",
      "\n",
      "Question: 3. What are the responsibilities of an occupational therapist in Texas?\n",
      "Choices:\n",
      "1. CORRECT: The responsibilities of an occupational therapist in Texas include evaluating, planning, and implementing treatment plans for patients, as well as maintaining accurate records and adhering to ethical and legal standards.\n",
      "2. The main responsibility of an occupational therapist in Texas is to assist patients in finding employment opportunities.\n",
      "3. An occupational therapist in Texas is responsible for providing mental health counseling services to patients.\n",
      "4. The responsibilities of an occupational therapist in Texas are determined by their employer and may vary from job to job.\n",
      "\n",
      "\n",
      "\n",
      "Question: 4. How does the Texas Occupational Therapy Practice Act define occupational therapy?\n",
      "Choices:\n",
      "1. CORRECT: According to the Texas Occupational Therapy Practice Act, occupational therapy is defined as a healthcare profession that helps individuals of all ages participate in meaningful activities and occupations to improve their overall well-being.\n",
      "2. The Texas Occupational Therapy Practice Act defines occupational therapy as a form of physical therapy for individuals with disabilities.\n",
      "3. Occupational therapy, as defined by the Texas Occupational Therapy Practice Act, is limited to the use of assistive devices and adaptive equipment.\n",
      "4. The Texas Occupational Therapy Practice Act defines occupational therapy as a form of mental health treatment.\n",
      "\n",
      "\n",
      "\n",
      "Question: 5. What is the process for reporting a violation of the Texas Occupational Therapy Practice Act?\n",
      "Choices:\n",
      "1. CORRECT: Any violation of the Texas Occupational Therapy Practice Act should be reported to the Texas Board of Occupational Therapy Examiners.\n",
      "2. In order to report a violation of the Texas Occupational Therapy Practice Act, you must first file a lawsuit against the individual or facility.\n",
      "3. The process for reporting a violation of the Texas Occupational Therapy Practice Act involves contacting the Occupational Therapy Association of Texas.\n",
      "4. The only way to report a violation of the Texas Occupational Therapy Practice Act is to file a complaint with the Occupational Therapy Board.\n",
      "\n",
      "\n",
      "\n"
     ]
    }
   ],
   "source": [
    "print(\"MARKED REVIEW QUESTIONS\")\n",
    "print(\"====================================\\n\\n\")\n",
    "for question in responses:\n",
    "    prompt = \"Based on the question \" + question + \", generate 4 possible answers including one correct answer and three false answers. Mark the correct answer as CORRECT.\"\n",
    "    print(\"Question: \" + question)\n",
    "    print(\"Choices:\")\n",
    "    choices = chain.predict(human_input=prompt)\n",
    "    print(choices)\n",
    "    print(\"\\n\\n\")"
   ]
  }
 ],
 "metadata": {
  "kernelspec": {
   "display_name": "Python 3 (ipykernel)",
   "language": "python",
   "name": "python3"
  },
  "language_info": {
   "codemirror_mode": {
    "name": "ipython",
    "version": 3
   },
   "file_extension": ".py",
   "mimetype": "text/x-python",
   "name": "python",
   "nbconvert_exporter": "python",
   "pygments_lexer": "ipython3",
   "version": "3.9.9"
  }
 },
 "nbformat": 4,
 "nbformat_minor": 5
}
